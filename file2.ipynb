{
  "nbformat": 4,
  "nbformat_minor": 0,
  "metadata": {
    "colab": {
      "provenance": [],
      "collapsed_sections": []
    },
    "kernelspec": {
      "name": "python3",
      "display_name": "Python 3"
    },
    "language_info": {
      "name": "python"
    }
  },
  "cells": [
    {
      "cell_type": "code",
      "execution_count": 1,
      "metadata": {
        "id": "-XpHBPI3BOl_"
      },
      "outputs": [],
      "source": [
        "%load_ext rpy2.ipython"
      ]
    },
    {
      "cell_type": "markdown",
      "source": [
        "**Chapter 1:** "
      ],
      "metadata": {
        "id": "AtjKF7MqBo4D"
      }
    },
    {
      "cell_type": "code",
      "source": [
        "%%R\n",
        "x <- 12\n",
        "\n",
        "some_numbers <- c(0,1,2,3,4,5,6,7,8,9)\n",
        "some_numbers <- c(0:9)\n",
        "\n",
        "some_numbers"
      ],
      "metadata": {
        "colab": {
          "base_uri": "https://localhost:8080/"
        },
        "id": "_DmuxOFuBryd",
        "outputId": "b834e118-2bf7-4871-97d8-3a95690d7d98"
      },
      "execution_count": 2,
      "outputs": [
        {
          "output_type": "stream",
          "name": "stdout",
          "text": [
            " [1] 0 1 2 3 4 5 6 7 8 9\n"
          ]
        }
      ]
    },
    {
      "cell_type": "code",
      "source": [
        "%%R\n",
        "mean(some_numbers)"
      ],
      "metadata": {
        "colab": {
          "base_uri": "https://localhost:8080/"
        },
        "id": "9lXNto0ACD2X",
        "outputId": "20633140-a322-4d1a-a419-06586ba4a560"
      },
      "execution_count": 3,
      "outputs": [
        {
          "output_type": "stream",
          "name": "stdout",
          "text": [
            "[1] 4.5\n"
          ]
        }
      ]
    },
    {
      "cell_type": "code",
      "source": [
        "%%R\n",
        "library(tidyverse)"
      ],
      "metadata": {
        "id": "c2R9z8pwCOHh",
        "colab": {
          "base_uri": "https://localhost:8080/"
        },
        "outputId": "d1569bce-859e-4c31-9c75-755b20486931"
      },
      "execution_count": 4,
      "outputs": [
        {
          "output_type": "stream",
          "name": "stderr",
          "text": [
            "WARNING:rpy2.rinterface_lib.callbacks:R[write to console]: ── Attaching packages ─────────────────────────────────────── tidyverse 1.3.1 ──\n",
            "\n",
            "WARNING:rpy2.rinterface_lib.callbacks:R[write to console]: ✔ ggplot2 3.3.6      ✔ purrr   0.3.5 \n",
            "✔ tibble  3.1.7      ✔ dplyr   1.0.10\n",
            "✔ tidyr   1.2.1      ✔ stringr 1.4.1 \n",
            "✔ readr   2.1.3      ✔ forcats 0.5.2 \n",
            "\n",
            "WARNING:rpy2.rinterface_lib.callbacks:R[write to console]: ── Conflicts ────────────────────────────────────────── tidyverse_conflicts() ──\n",
            "✖ dplyr::filter() masks stats::filter()\n",
            "✖ dplyr::lag()    masks stats::lag()\n",
            "\n"
          ]
        }
      ]
    },
    {
      "cell_type": "markdown",
      "source": [
        "**Chapter 2:**"
      ],
      "metadata": {
        "id": "RLjDhdE8eG0O"
      }
    },
    {
      "cell_type": "code",
      "source": [
        "%%R\n",
        "paygap <- read.csv('/content/UK Gender Pay Gap Data - 2022 to 2023.csv',header = TRUE)\n"
      ],
      "metadata": {
        "id": "aicHlIagGF86"
      },
      "execution_count": 5,
      "outputs": []
    },
    {
      "cell_type": "code",
      "source": [
        "%%R \n",
        "head(paygap,n=5)"
      ],
      "metadata": {
        "colab": {
          "base_uri": "https://localhost:8080/"
        },
        "id": "xVN3L1RR9aA4",
        "outputId": "98357124-1f5a-4617-e5c5-3732b7ab26e4"
      },
      "execution_count": 6,
      "outputs": [
        {
          "output_type": "stream",
          "name": "stdout",
          "text": [
            "                                    EmployerName EmployerId\n",
            "1                         A.J.N. STEELSTOCK LTD.      14835\n",
            "2                         AB WORLD FOODS LIMITED        764\n",
            "3             ABACUS EMPLOYMENT SERVICES LIMITED        767\n",
            "4 Advisory, Conciliation and Arbitration Service        496\n",
            "5     AFH INDEPENDENT FINANCIAL SERVICES LIMITED      19364\n",
            "                                                                                 Address\n",
            "1                                    Icknield Way, Kentford, Newmarket, Suffolk, CB8 7QT\n",
            "2                                    Weston Centre, 10 Grosvenor Street, London, W1K 4QY\n",
            "3                             1 Chequers Road, Basingstoke, Hampshire, England, RG21 7PU\n",
            "4 8th Floor, Windsor House, 50 Victoria Street, London, London, United Kingdom, SW1H 0TL\n",
            "5            Afh House Buntsford Drive, Stoke Heath, Bromsgrove, Worcestershire, B60 4JE\n",
            "  PostCode CompanyNumber  SicCodes DiffMeanHourlyPercent\n",
            "1  CB8 7QT      00689647     46720                  16.2\n",
            "2  W1K 4QY      01400901     10890                  -8.6\n",
            "3 RG21 7PU      02638307     78200                  -3.0\n",
            "4 SW1H 0TL               1,\\n84110                   7.2\n",
            "5  B60 4JE      04049180     64999                  25.0\n",
            "  DiffMedianHourlyPercent DiffMeanBonusPercent DiffMedianBonusPercent\n",
            "1                     3.3                -20.0                    0.0\n",
            "2                   -12.3                 10.3                  -20.8\n",
            "3                     3.2                   NA                     NA\n",
            "4                     6.1                 19.4                    9.9\n",
            "5                    32.0                -33.0                   69.0\n",
            "  MaleBonusPercent FemaleBonusPercent MaleLowerQuartile FemaleLowerQuartile\n",
            "1               71               81.0              82.3                17.7\n",
            "2               86               86.9              61.4                38.6\n",
            "3                0                0.0              71.5                28.5\n",
            "4               60               57.0              37.2                62.8\n",
            "5                2                3.0              29.0                71.0\n",
            "  MaleLowerMiddleQuartile FemaleLowerMiddleQuartile MaleUpperMiddleQuartile\n",
            "1                    85.3                      14.7                    89.2\n",
            "2                    66.3                      33.7                    66.3\n",
            "3                    79.2                      20.8                    78.5\n",
            "4                    39.1                      60.9                    36.8\n",
            "5                    28.0                      72.0                    41.0\n",
            "  FemaleUpperMiddleQuartile MaleTopQuartile FemaleTopQuartile\n",
            "1                      10.8            87.1              12.9\n",
            "2                      33.7            44.6              55.4\n",
            "3                      21.5            80.9              19.1\n",
            "4                      63.2            51.8              48.2\n",
            "5                      59.0            60.0              40.0\n",
            "                                                                       CompanyLinkToGPGInfo\n",
            "1 https://www.ajnsteelstock.co.uk/wp-content/uploads/2022/10/2022-Gender-Pay-Gap-Report.pdf\n",
            "2                 https://abworldfoods.com/documents/ABWF_Gender_Pay_Gap_Narrative_2022.pdf\n",
            "3                                                          http://www.abacus-employment.com\n",
            "4                        https://www.acas.org.uk/acas-gender-pay-report/2021-to-2022-report\n",
            "5                                                                                          \n",
            "                 ResponsiblePerson EmployerSize\n",
            "1               Courtney Bell (FD)   250 to 499\n",
            "2  Andy Mayhew (Managing Director)   250 to 499\n",
            "3     Phil James (Finance Manager)   250 to 499\n",
            "4                                  1000 to 4999\n",
            "5 Alison Court (Senior HR Adviser)   500 to 999\n",
            "                                     CurrentName SubmittedAfterTheDeadline\n",
            "1                         A.J.N. STEELSTOCK LTD.                     False\n",
            "2                         AB WORLD FOODS LIMITED                     False\n",
            "3             ABACUS EMPLOYMENT SERVICES LIMITED                     False\n",
            "4 Advisory, Conciliation and Arbitration Service                     False\n",
            "5     AFH INDEPENDENT FINANCIAL SERVICES LIMITED                     False\n",
            "              DueDate       DateSubmitted\n",
            "1 2023/04/05 00:00:00 2022/10/11 15:34:17\n",
            "2 2023/04/05 00:00:00 2022/09/30 09:45:25\n",
            "3 2023/04/05 00:00:00 2022/04/13 14:57:04\n",
            "4 2023/03/31 00:00:00 2022/08/01 13:15:17\n",
            "5 2023/04/05 00:00:00 2022/05/20 11:24:09\n"
          ]
        }
      ]
    },
    {
      "cell_type": "code",
      "source": [
        "%%R\n",
        "colnames(paygap)"
      ],
      "metadata": {
        "id": "TBNYl0MN9iiK",
        "colab": {
          "base_uri": "https://localhost:8080/"
        },
        "outputId": "ddf635cf-eade-482a-8718-c446d7d8f641"
      },
      "execution_count": 8,
      "outputs": [
        {
          "output_type": "stream",
          "name": "stdout",
          "text": [
            " [1] \"EmployerName\"              \"EmployerId\"               \n",
            " [3] \"Address\"                   \"PostCode\"                 \n",
            " [5] \"CompanyNumber\"             \"SicCodes\"                 \n",
            " [7] \"DiffMeanHourlyPercent\"     \"DiffMedianHourlyPercent\"  \n",
            " [9] \"DiffMeanBonusPercent\"      \"DiffMedianBonusPercent\"   \n",
            "[11] \"MaleBonusPercent\"          \"FemaleBonusPercent\"       \n",
            "[13] \"MaleLowerQuartile\"         \"FemaleLowerQuartile\"      \n",
            "[15] \"MaleLowerMiddleQuartile\"   \"FemaleLowerMiddleQuartile\"\n",
            "[17] \"MaleUpperMiddleQuartile\"   \"FemaleUpperMiddleQuartile\"\n",
            "[19] \"MaleTopQuartile\"           \"FemaleTopQuartile\"        \n",
            "[21] \"CompanyLinkToGPGInfo\"      \"ResponsiblePerson\"        \n",
            "[23] \"EmployerSize\"              \"CurrentName\"              \n",
            "[25] \"SubmittedAfterTheDeadline\" \"DueDate\"                  \n",
            "[27] \"DateSubmitted\"            \n"
          ]
        }
      ]
    },
    {
      "cell_type": "code",
      "source": [
        "%%R\n",
        "dim(paygap)"
      ],
      "metadata": {
        "colab": {
          "base_uri": "https://localhost:8080/"
        },
        "id": "0_wwTRMsdIhP",
        "outputId": "e1aef982-7654-4cb5-9c13-5cc068f178e4"
      },
      "execution_count": 10,
      "outputs": [
        {
          "output_type": "stream",
          "name": "stdout",
          "text": [
            "[1] 352  27\n"
          ]
        }
      ]
    },
    {
      "cell_type": "code",
      "source": [
        "%%R\n",
        "class(paygap)"
      ],
      "metadata": {
        "colab": {
          "base_uri": "https://localhost:8080/"
        },
        "id": "WQIcSpdJdqfj",
        "outputId": "c91950da-0589-4db6-fa56-b82eb769e7cd"
      },
      "execution_count": 12,
      "outputs": [
        {
          "output_type": "stream",
          "name": "stdout",
          "text": [
            "[1] \"data.frame\"\n"
          ]
        }
      ]
    },
    {
      "cell_type": "code",
      "source": [
        "%%R\n",
        "class(paygap$DiffMeanHourlyPercent)"
      ],
      "metadata": {
        "colab": {
          "base_uri": "https://localhost:8080/"
        },
        "id": "WFtjnpmbdvBx",
        "outputId": "f0b49d69-e038-41df-f124-a2ac41c19dbf"
      },
      "execution_count": 13,
      "outputs": [
        {
          "output_type": "stream",
          "name": "stdout",
          "text": [
            "[1] \"numeric\"\n"
          ]
        }
      ]
    },
    {
      "cell_type": "markdown",
      "source": [
        "**Chapter 3**"
      ],
      "metadata": {
        "id": "ETdyjQDrd9R6"
      }
    },
    {
      "cell_type": "code",
      "source": [
        "%%R\n",
        "gender <- c(2,2,2,2,2,2,2,2,2,2,2,2,2,2,2,2,2,2,2,2,2,2,2,2,2,2,2,2,2,2,2,2,2,2,2,2,2,2,2,2,2,2,2,2,2,2,2,2,2,2,2,2,2,2,2,2,2,2,2,2,2,2,2,2,2,1,1,1,1,1,1,1,1,1,1,1,1,1,1,1,1,1,1,1,1,1,1,1,1,1,1,1,1,1,1,1,1,1,1,1,1,1,1,1,1,1,1,1,1,1,1,1,1,1,1,1,1,1,1,1,1,1,1,1,1,1,1,1,1,1)\n",
        "bodytemp <- c(96.3,96.7,96.9,97,97.1,97.1,97.1,97.2,97.3,97.4,97.4,97.4,97.4,97.5,97.5,97.6,97.6,97.6,97.7,97.8,97.8,97.8,97.8,97.9,97.9,98,98,98,98,98,98,98.1,98.1,98.2,98.2,98.2,98.2,98.3,98.3,98.4,98.4,98.4,98.4,98.5,98.5,98.6,98.6,98.6,98.6,98.6,98.6,98.7,98.7,98.8,98.8,98.8,98.9,99,99,99,99.1,99.2,99.3,99.4,99.5,96.4,96.7,96.8,97.2,97.2,97.4,97.6,97.7,97.7,97.8,97.8,97.8,97.9,97.9,97.9,98,98,98,98,98,98.1,98.2,98.2,98.2,98.2,98.2,98.2,98.3,98.3,98.3,98.4,98.4,98.4,98.4,98.4,98.5,98.6,98.6,98.6,98.6,98.7,98.7,98.7,98.7,98.7,98.7,98.8,98.8,98.8,98.8,98.8,98.8,98.8,98.9,99,99,99.1,99.1,99.2,99.2,99.3,99.4,99.9,100,100.8)\n",
        "heartrate <- c(70,71,74,80,73,75,82,64,69,70,68,72,78,70,75,74,69,73,77,58,73,65,74,76,72,78,71,74,67,64,78,73,67,66,64,71,72,86,72,68,70,82,84,68,71,77,78,83,66,70,82,73,78,78,81,78,80,75,79,81,71,83,63,70,75,69,62,75,66,68,57,61,84,61,77,62,71,68,69,79,76,87,78,73,89,81,73,64,65,73,69,57,79,78,80,79,81,73,74,84,83,82,85,86,77,72,79,59,64,65,82,64,70,83,89,69,73,84,76,79,81,80,74,77,66,68,77,79,78,77)\n",
        "\n",
        "cardiacdata <- data.frame(gender = gender,bodytemp=bodytemp,heartrate=heartrate)"
      ],
      "metadata": {
        "id": "04CUrvygj0aX"
      },
      "execution_count": 72,
      "outputs": []
    },
    {
      "cell_type": "code",
      "source": [
        "%%R\n",
        "cardiacdata[1,3]"
      ],
      "metadata": {
        "colab": {
          "base_uri": "https://localhost:8080/"
        },
        "id": "gnaAIsUik3e_",
        "outputId": "a9d379e0-d171-429d-d45c-470ec1f41be5"
      },
      "execution_count": 73,
      "outputs": [
        {
          "output_type": "stream",
          "name": "stdout",
          "text": [
            "[1] 70\n"
          ]
        }
      ]
    },
    {
      "cell_type": "code",
      "source": [
        "%%R\n",
        "cardiacdata[5:7,1:3]"
      ],
      "metadata": {
        "colab": {
          "base_uri": "https://localhost:8080/"
        },
        "id": "uPkOm5a_lGVm",
        "outputId": "41b91ecc-8fe3-4939-dfd2-7e7abdddaa60"
      },
      "execution_count": 74,
      "outputs": [
        {
          "output_type": "stream",
          "name": "stdout",
          "text": [
            "  gender bodytemp heartrate\n",
            "5      2     97.1        73\n",
            "6      2     97.1        75\n",
            "7      2     97.1        82\n"
          ]
        }
      ]
    },
    {
      "cell_type": "code",
      "source": [
        "%%R\n",
        "temperatures <- cardiacdata$bodytemp "
      ],
      "metadata": {
        "id": "ayg_HBqrl7Bk"
      },
      "execution_count": 75,
      "outputs": []
    },
    {
      "cell_type": "code",
      "source": [
        "%%R\n",
        "heartrates <- select(cardiacdata,gender,heartrate)"
      ],
      "metadata": {
        "id": "CWY5kSRQmB7a"
      },
      "execution_count": 76,
      "outputs": []
    },
    {
      "cell_type": "code",
      "source": [
        "%%R\n",
        "cardiacdata <- rename(cardiacdata,bodytemp_degF = bodytemp)\n",
        "cardiacdata <- rename(cardiacdata,heartrate_bpm = heartrate)"
      ],
      "metadata": {
        "id": "FIRg8dx0mKpw"
      },
      "execution_count": 77,
      "outputs": []
    },
    {
      "cell_type": "code",
      "source": [
        "%%R\n",
        "head(cardiacdata)"
      ],
      "metadata": {
        "colab": {
          "base_uri": "https://localhost:8080/"
        },
        "id": "ejANv9YFmV1E",
        "outputId": "0c7ec44f-b0c1-4b21-9e92-d4c780aff9c9"
      },
      "execution_count": 78,
      "outputs": [
        {
          "output_type": "stream",
          "name": "stdout",
          "text": [
            "  gender bodytemp_degF heartrate_bpm\n",
            "1      2          96.3            70\n",
            "2      2          96.7            71\n",
            "3      2          96.9            74\n",
            "4      2          97.0            80\n",
            "5      2          97.1            73\n",
            "6      2          97.1            75\n"
          ]
        }
      ]
    },
    {
      "cell_type": "code",
      "source": [
        "%%R\n",
        "cardiacdata <- mutate(cardiacdata,bodytemp_degC = (bodytemp_degF -32)*(5/9))"
      ],
      "metadata": {
        "id": "kWt-Csa0mbCB"
      },
      "execution_count": 79,
      "outputs": []
    },
    {
      "cell_type": "code",
      "source": [
        "%%R\n",
        "cardiacdata <- mutate(cardiacdata, gender = ifelse(gender == 1, 'Female', \n",
        "                                            ifelse(gender == 2, 'Male', NA)))"
      ],
      "metadata": {
        "id": "v52F0r7Km9v0"
      },
      "execution_count": 80,
      "outputs": []
    },
    {
      "cell_type": "code",
      "source": [
        "%%R\n",
        "head(cardiacdata)"
      ],
      "metadata": {
        "colab": {
          "base_uri": "https://localhost:8080/"
        },
        "id": "D3oDoLPmnCHb",
        "outputId": "ea902b87-6d70-4588-9632-7f12c55e3d9f"
      },
      "execution_count": 81,
      "outputs": [
        {
          "output_type": "stream",
          "name": "stdout",
          "text": [
            "  gender bodytemp_degF heartrate_bpm bodytemp_degC\n",
            "1   Male          96.3            70      35.72222\n",
            "2   Male          96.7            71      35.94444\n",
            "3   Male          96.9            74      36.05556\n",
            "4   Male          97.0            80      36.11111\n",
            "5   Male          97.1            73      36.16667\n",
            "6   Male          97.1            75      36.16667\n"
          ]
        }
      ]
    },
    {
      "cell_type": "code",
      "source": [
        "%%R\n",
        "cardiacdata_female <- filter(cardiacdata, gender == 'Female')"
      ],
      "metadata": {
        "id": "66FMsFcdnwru"
      },
      "execution_count": 82,
      "outputs": []
    },
    {
      "cell_type": "code",
      "source": [
        "%%R\n",
        "head(cardiacdata_female)"
      ],
      "metadata": {
        "colab": {
          "base_uri": "https://localhost:8080/"
        },
        "id": "DHSaR_VyopC_",
        "outputId": "6f2dac21-1842-4906-ac97-35742a0b8bb0"
      },
      "execution_count": 83,
      "outputs": [
        {
          "output_type": "stream",
          "name": "stdout",
          "text": [
            "  gender bodytemp_degF heartrate_bpm bodytemp_degC\n",
            "1 Female          96.4            69      35.77778\n",
            "2 Female          96.7            62      35.94444\n",
            "3 Female          96.8            75      36.00000\n",
            "4 Female          97.2            66      36.22222\n",
            "5 Female          97.2            68      36.22222\n",
            "6 Female          97.4            57      36.33333\n"
          ]
        }
      ]
    },
    {
      "cell_type": "code",
      "source": [
        "%%R\n",
        "cardiacdata_female <- cardiacdata %>%\n",
        "  filter(gender == 'Female') %>%\n",
        "  select(-gender) %>%\n",
        "  mutate(bodytemp_Kelvin = bodytemp_degC + 273)"
      ],
      "metadata": {
        "id": "ELwtJKgTnzvm"
      },
      "execution_count": 84,
      "outputs": []
    },
    {
      "cell_type": "code",
      "source": [
        "%%R\n",
        "head(cardiacdata_female)"
      ],
      "metadata": {
        "colab": {
          "base_uri": "https://localhost:8080/"
        },
        "id": "GSRns9OAoKsq",
        "outputId": "4e2874be-2900-445c-a657-d37a8f9966e1"
      },
      "execution_count": 85,
      "outputs": [
        {
          "output_type": "stream",
          "name": "stdout",
          "text": [
            "  bodytemp_degF heartrate_bpm bodytemp_degC bodytemp_Kelvin\n",
            "1          96.4            69      35.77778        308.7778\n",
            "2          96.7            62      35.94444        308.9444\n",
            "3          96.8            75      36.00000        309.0000\n",
            "4          97.2            66      36.22222        309.2222\n",
            "5          97.2            68      36.22222        309.2222\n",
            "6          97.4            57      36.33333        309.3333\n"
          ]
        }
      ]
    },
    {
      "cell_type": "code",
      "source": [
        "%%R\n",
        "cardiacdata_byGender <- cardiacdata %>%\n",
        "  group_by(gender) %>%                                  \n",
        "  summarize(avg_bodytemp_degF = mean(bodytemp_degF),    \n",
        "            avg_bodytemp_degC = mean(bodytemp_degC), \n",
        "            avg_heartrate_bpm = mean(heartrate_bpm)) "
      ],
      "metadata": {
        "id": "nlPFSCYon9jp"
      },
      "execution_count": 86,
      "outputs": []
    },
    {
      "cell_type": "code",
      "source": [
        "%%R\n",
        "head(cardiacdata_byGender)"
      ],
      "metadata": {
        "colab": {
          "base_uri": "https://localhost:8080/"
        },
        "id": "nBi8wDg3pqoo",
        "outputId": "15131e0a-a81b-481b-93b5-ba1761b08b94"
      },
      "execution_count": 87,
      "outputs": [
        {
          "output_type": "stream",
          "name": "stdout",
          "text": [
            "# A tibble: 2 × 4\n",
            "  gender avg_bodytemp_degF avg_bodytemp_degC avg_heartrate_bpm\n",
            "  <chr>              <dbl>             <dbl>             <dbl>\n",
            "1 Female              98.4              36.9              74.2\n",
            "2 Male                98.1              36.7              73.4\n"
          ]
        }
      ]
    },
    {
      "cell_type": "code",
      "source": [
        "%%R\n",
        "some_numbers <- c(4,5,6,7,NA,8)\n",
        "mean(some_numbers)"
      ],
      "metadata": {
        "colab": {
          "base_uri": "https://localhost:8080/"
        },
        "id": "Tr2TTq0Zpwo7",
        "outputId": "77cb682c-d60e-43a3-d94a-e481a2e212b7"
      },
      "execution_count": 89,
      "outputs": [
        {
          "output_type": "stream",
          "name": "stdout",
          "text": [
            "[1] NA\n"
          ]
        }
      ]
    },
    {
      "cell_type": "code",
      "source": [
        "%%R\n",
        "mean(some_numbers, na.rm = TRUE)"
      ],
      "metadata": {
        "colab": {
          "base_uri": "https://localhost:8080/"
        },
        "id": "fvx_jUozp9m6",
        "outputId": "7b6fe901-f2fb-487f-a5eb-145eb9fb595b"
      },
      "execution_count": 90,
      "outputs": [
        {
          "output_type": "stream",
          "name": "stdout",
          "text": [
            "[1] 6\n"
          ]
        }
      ]
    },
    {
      "cell_type": "code",
      "source": [
        "%%R\n",
        "ggplot(data = cardiacdata, mapping = aes(x = bodytemp_degC)) + \n",
        "  geom_histogram(bins = 20)"
      ],
      "metadata": {
        "colab": {
          "base_uri": "https://localhost:8080/",
          "height": 497
        },
        "id": "8MWUfMmvqA8i",
        "outputId": "d25e5288-4f1f-4484-98c7-fd55a876e778"
      },
      "execution_count": 91,
      "outputs": [
        {
          "output_type": "display_data",
          "data": {
            "image/png": "[encoded data removed]"
          },
          "metadata": {}
        }
      ]
    },
    {
      "cell_type": "code",
      "source": [
        "%%R\n",
        "ggplot(data = cardiacdata, mapping = aes(x = bodytemp_degC)) + \n",
        "  geom_histogram(bins = 20, aes(y = ..density..))"
      ],
      "metadata": {
        "colab": {
          "base_uri": "https://localhost:8080/",
          "height": 497
        },
        "id": "0yMQNXubqGTG",
        "outputId": "09d7b8e9-d6e9-4298-e45b-d192b4b9f746"
      },
      "execution_count": 92,
      "outputs": [
        {
          "output_type": "display_data",
          "data": {
            "image/png": "[encoded data removed]"
          },
          "metadata": {}
        }
      ]
    },
    {
      "cell_type": "code",
      "source": [
        "%%R\n",
        "ggplot(data = cardiacdata, mapping = aes(x = bodytemp_degC)) + \n",
        "  geom_histogram(bins = 20, aes(y = ..density..), fill = 'lightblue') +\n",
        "  xlab('body temperature (celsius)') +\n",
        "  ggtitle('distribution of body temperatures') +\n",
        "  theme_light()"
      ],
      "metadata": {
        "colab": {
          "base_uri": "https://localhost:8080/",
          "height": 497
        },
        "id": "t4u1427FqZ3w",
        "outputId": "1921e659-df22-46db-c32d-0cbba8e52577"
      },
      "execution_count": 93,
      "outputs": [
        {
          "output_type": "display_data",
          "data": {
            "image/png": "[encoded data removed]"
          },
          "metadata": {}
        }
      ]
    },
    {
      "cell_type": "code",
      "source": [
        "%%R\n",
        "ggplot(data = cardiacdata, mapping = aes(x = heartrate_bpm, y = bodytemp_degC)) + \n",
        "  geom_point() +\n",
        "  theme_light()"
      ],
      "metadata": {
        "colab": {
          "base_uri": "https://localhost:8080/",
          "height": 497
        },
        "id": "AsrgL0a_qs-g",
        "outputId": "2725301c-5579-414c-e287-28e075e50f6d"
      },
      "execution_count": 95,
      "outputs": [
        {
          "output_type": "display_data",
          "data": {
            "image/png": "[encoded data removed]"
          },
          "metadata": {}
        }
      ]
    },
    {
      "cell_type": "code",
      "source": [
        "%%R\n",
        "ggplot(data = cardiacdata, mapping = aes(x = heartrate_bpm, y = bodytemp_degC, color = gender)) + \n",
        "  geom_point() +\n",
        "  theme_light()"
      ],
      "metadata": {
        "colab": {
          "base_uri": "https://localhost:8080/",
          "height": 497
        },
        "id": "ivRA9QAvrCb3",
        "outputId": "c0449311-d897-41ed-af40-ea4a0917bc20"
      },
      "execution_count": 96,
      "outputs": [
        {
          "output_type": "display_data",
          "data": {
            "image/png": "[encoded data removed]"
          },
          "metadata": {}
        }
      ]
    },
    {
      "cell_type": "code",
      "source": [
        "%%R\n",
        "ggplot(data = cardiacdata, mapping = aes(x = gender, y = bodytemp_degC)) +\n",
        "  geom_boxplot() +\n",
        "  xlab('gender') +\n",
        "  ylab('body temperature (celsius)') +\n",
        "  theme_light()"
      ],
      "metadata": {
        "colab": {
          "base_uri": "https://localhost:8080/",
          "height": 497
        },
        "id": "0cApgsefrGPE",
        "outputId": "47764722-ef11-4329-9e5c-ec8381d0b794"
      },
      "execution_count": 97,
      "outputs": [
        {
          "output_type": "display_data",
          "data": {
            "image/png": "[encoded data removed]"
          },
          "metadata": {}
        }
      ]
    }
  ]
}